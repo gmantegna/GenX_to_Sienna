{
 "cells": [
  {
   "cell_type": "code",
   "execution_count": 1,
   "id": "3e5f30e1-dd42-4c55-8449-c84a37cf2849",
   "metadata": {},
   "outputs": [
    {
     "name": "stdout",
     "output_type": "stream",
     "text": [
      "nse for 2001 is 0.0\n",
      "nse for 1998 is 0.0\n",
      "nse for 2005 is 0.0\n",
      "nse for 2004 is 0.0\n",
      "nse for 2015 is 0.0\n",
      "nse for 2014 is 0.0\n",
      "nse for 2000 is 0.0\n",
      "nse for 1999 is 0.0\n",
      "nse for 2018 is 0.0\n",
      "nse for 2019 is 0.0\n",
      "nse for 2008 is 0.0\n",
      "nse for 2012 is 0.0\n",
      "nse for 2017 is 0.0\n",
      "nse for 2013 is 0.0\n",
      "nse for 2010 is 0.0\n",
      "nse for 2011 is 0.0\n",
      "nse for 2007 is 0.0\n",
      "nse for 2009 is 0.0\n",
      "nse for 2016 is 0.0\n",
      "nse for 2002 is 0.0\n",
      "nse for 2003 is 0.0\n",
      "nse for 2020 is 0.0\n",
      "nse for 2006 is 0.0\n"
     ]
    }
   ],
   "source": [
    "import pandas as pd\n",
    "import numpy as np\n",
    "from pathlib import Path\n",
    "\n",
    "results_path = Path(\"/scratch/gpfs/gm1710/SCP_Sienna_Outputs\")\n",
    "\n",
    "for results_folder in results_path.iterdir():\n",
    "    output_path = results_folder / \"activepower_thermalstandard.csv\"\n",
    "    if output_path.exists():\n",
    "        year=results_folder.name.split(\"_\")[1]\n",
    "        df = pd.read_csv(output_path,index_col=0)\n",
    "        df.index=pd.to_datetime(df.index)\n",
    "        nse_cur=df[[x for x in df.columns if \"VoLL\" in x]].sum(axis=1).sum(axis=0)\n",
    "        print(\"nse for {} is {}\".format(year,nse_cur))"
   ]
  }
 ],
 "metadata": {
  "kernelspec": {
   "display_name": "Python 3 (ipykernel)",
   "language": "python",
   "name": "python3"
  },
  "language_info": {
   "codemirror_mode": {
    "name": "ipython",
    "version": 3
   },
   "file_extension": ".py",
   "mimetype": "text/x-python",
   "name": "python",
   "nbconvert_exporter": "python",
   "pygments_lexer": "ipython3",
   "version": "3.12.4"
  }
 },
 "nbformat": 4,
 "nbformat_minor": 5
}
